{
  "nbformat": 4,
  "nbformat_minor": 0,
  "metadata": {
    "colab": {
      "name": "Untitled1.ipynb",
      "provenance": [],
      "collapsed_sections": [],
      "include_colab_link": true
    },
    "kernelspec": {
      "name": "python3",
      "display_name": "Python 3"
    },
    "language_info": {
      "name": "python"
    }
  },
  "cells": [
    {
      "cell_type": "markdown",
      "metadata": {
        "id": "view-in-github",
        "colab_type": "text"
      },
      "source": [
        "<a href=\"https://colab.research.google.com/github/habiib1999/Face-Recognition/blob/main/Untitled1.ipynb\" target=\"_parent\"><img src=\"https://colab.research.google.com/assets/colab-badge.svg\" alt=\"Open In Colab\"/></a>"
      ]
    },
    {
      "cell_type": "markdown",
      "metadata": {
        "id": "4iAT3ij3Ve9N"
      },
      "source": [
        "# Data read and Split [Abdul rahman Habib]"
      ]
    },
    {
      "cell_type": "code",
      "metadata": {
        "id": "WNX3B4UgLdtQ"
      },
      "source": [
        "import numpy as np\n",
        "import pandas as pd\n",
        "%matplotlib inline\n",
        "from matplotlib import pyplot as plt\n",
        "import cv2\n",
        "import os, sys\n",
        "from my_KMEANS_clusrting import K_Means\n"
      ],
      "execution_count": null,
      "outputs": []
    },
    {
      "cell_type": "code",
      "metadata": {
        "id": "jm4aVAfFUAw6",
        "colab": {
          "base_uri": "https://localhost:8080/"
        },
        "outputId": "ef07d86a-f234-4956-e1ef-d57781f9e327"
      },
      "source": [
        "from google.colab import drive\n",
        "drive.mount('/content/drive')"
      ],
      "execution_count": null,
      "outputs": [
        {
          "output_type": "stream",
          "text": [
            "Drive already mounted at /content/drive; to attempt to forcibly remount, call drive.mount(\"/content/drive\", force_remount=True).\n"
          ],
          "name": "stdout"
        }
      ]
    },
    {
      "cell_type": "code",
      "metadata": {
        "id": "OgTsLcikdFPD"
      },
      "source": [
        "BASE = '/content/drive/MyDrive/att-database-of-faces/'\n",
        "filepaths = [] # Contains the absolute paths of all the image files\n",
        "for s_i in os.listdir(BASE): # The folders containing the files are labelled as s1, s2, etc\n",
        "    if s_i != 'README': # There is also a README file present in the data, this must be ignored\n",
        "        for filename in os.listdir(BASE + s_i):\n",
        "            filepaths.append(BASE + s_i + '/' + filename)"
      ],
      "execution_count": null,
      "outputs": []
    },
    {
      "cell_type": "code",
      "metadata": {
        "id": "AYdm30REdGuy"
      },
      "source": [
        "images = []\n",
        "for filepath in df['filepaths']:\n",
        "    images.append(cv2.imread(filepath, 0).flatten())\n",
        "images = np.array(images)"
      ],
      "execution_count": null,
      "outputs": []
    },
    {
      "cell_type": "code",
      "metadata": {
        "id": "69rKJFOTJ7jK"
      },
      "source": [
        "labels = []\n",
        "for i in range (40): #40 person\n",
        "  for j in range(10): #images\n",
        "    labels.append(i+1)\n",
        "labels_arr = np.array(labels)\n",
        "print(labels_arr)\n"
      ],
      "execution_count": null,
      "outputs": []
    },
    {
      "cell_type": "code",
      "metadata": {
        "id": "eGV6iQiAkTC4"
      },
      "source": [
        "for image in images:\n",
        "    print(image)"
      ],
      "execution_count": null,
      "outputs": []
    },
    {
      "cell_type": "markdown",
      "metadata": {
        "id": "2J4ZeyZ3VV_F"
      },
      "source": [
        "# LDA [Mohammed Aiman]"
      ]
    },
    {
      "cell_type": "code",
      "metadata": {
        "id": "qQMSv-CxVZKv"
      },
      "source": [
        ""
      ],
      "execution_count": null,
      "outputs": []
    },
    {
      "cell_type": "code",
      "metadata": {
        "id": "VSNhgAU9VZaS"
      },
      "source": [
        ""
      ],
      "execution_count": null,
      "outputs": []
    },
    {
      "cell_type": "markdown",
      "metadata": {
        "id": "fm6FR7CPVINN"
      },
      "source": [
        "# PCA [Ahmed Ashraf]"
      ]
    },
    {
      "cell_type": "code",
      "metadata": {
        "id": "s0xVmdm3VRnJ"
      },
      "source": [
        ""
      ],
      "execution_count": null,
      "outputs": []
    },
    {
      "cell_type": "code",
      "metadata": {
        "id": "DlvGqD3cVSp_"
      },
      "source": [
        ""
      ],
      "execution_count": null,
      "outputs": []
    }
  ]
}
