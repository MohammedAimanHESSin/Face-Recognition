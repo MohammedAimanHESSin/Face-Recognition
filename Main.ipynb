{
  "nbformat": 4,
  "nbformat_minor": 0,
  "metadata": {
    "colab": {
      "name": "Untitled1.ipynb",
      "provenance": [],
      "collapsed_sections": [],
      "include_colab_link": true
    },
    "kernelspec": {
      "name": "python3",
      "display_name": "Python 3"
    },
    "language_info": {
      "name": "python"
    }
  },
  "cells": [
    {
      "cell_type": "markdown",
      "metadata": {
        "id": "view-in-github",
        "colab_type": "text"
      },
      "source": [
        "<a href=\"https://colab.research.google.com/github/habiib1999/Face-Recognition/blob/main/Main.ipynb\" target=\"_parent\"><img src=\"https://colab.research.google.com/assets/colab-badge.svg\" alt=\"Open In Colab\"/></a>"
      ]
    },
    {
      "cell_type": "markdown",
      "metadata": {
        "id": "4iAT3ij3Ve9N"
      },
      "source": [
        "# Data read and Split [Abdul rahman Habib]"
      ]
    },
    {
      "cell_type": "code",
      "metadata": {
        "id": "WNX3B4UgLdtQ"
      },
      "source": [
        "import numpy as np\n",
        "import pandas as pd\n",
        "%matplotlib inline\n",
        "from matplotlib import pyplot as plt\n",
        "import cv2\n",
        "import os, sys\n"
      ],
      "execution_count": 16,
      "outputs": []
    },
    {
      "cell_type": "code",
      "metadata": {
        "id": "jm4aVAfFUAw6",
        "colab": {
          "base_uri": "https://localhost:8080/"
        },
        "outputId": "f31eebcd-059f-4a07-c08a-ce8d1106f406"
      },
      "source": [
        "from google.colab import drive\n",
        "drive.mount('/content/drive')"
      ],
      "execution_count": 17,
      "outputs": [
        {
          "output_type": "stream",
          "text": [
            "Drive already mounted at /content/drive; to attempt to forcibly remount, call drive.mount(\"/content/drive\", force_remount=True).\n"
          ],
          "name": "stdout"
        }
      ]
    },
    {
      "cell_type": "code",
      "metadata": {
        "id": "OgTsLcikdFPD"
      },
      "source": [
        "BASE = '/content/drive/MyDrive/att-database-of-faces/'\n",
        "filepaths = [] # Contains the absolute paths of all the image files\n",
        "for s_i in os.listdir(BASE): # The folders containing the files are labelled as s1, s2, etc\n",
        "    if s_i != 'README': # There is also a README file present in the data, this must be ignored\n",
        "        for filename in os.listdir(BASE + s_i):\n",
        "            filepaths.append(BASE + s_i + '/' + filename)"
      ],
      "execution_count": 18,
      "outputs": []
    },
    {
      "cell_type": "code",
      "metadata": {
        "id": "AYdm30REdGuy"
      },
      "source": [
        "images = []\n",
        "for filepath in filepaths:\n",
        "    images.append(cv2.imread(filepath, 0).flatten())\n",
        "images = np.array(images)"
      ],
      "execution_count": 19,
      "outputs": []
    },
    {
      "cell_type": "code",
      "metadata": {
        "id": "69rKJFOTJ7jK",
        "colab": {
          "base_uri": "https://localhost:8080/"
        },
        "outputId": "c33b3904-04eb-4ea0-f572-ffb825a70883"
      },
      "source": [
        "labels = []\n",
        "for i in range (40): #40 person\n",
        "  for j in range(10): #images\n",
        "    labels.append(i+1)\n",
        "labels = np.array(labels)\n",
        "print(labels)\n"
      ],
      "execution_count": 20,
      "outputs": [
        {
          "output_type": "stream",
          "text": [
            "[ 1  1  1  1  1  1  1  1  1  1  2  2  2  2  2  2  2  2  2  2  3  3  3  3\n",
            "  3  3  3  3  3  3  4  4  4  4  4  4  4  4  4  4  5  5  5  5  5  5  5  5\n",
            "  5  5  6  6  6  6  6  6  6  6  6  6  7  7  7  7  7  7  7  7  7  7  8  8\n",
            "  8  8  8  8  8  8  8  8  9  9  9  9  9  9  9  9  9  9 10 10 10 10 10 10\n",
            " 10 10 10 10 11 11 11 11 11 11 11 11 11 11 12 12 12 12 12 12 12 12 12 12\n",
            " 13 13 13 13 13 13 13 13 13 13 14 14 14 14 14 14 14 14 14 14 15 15 15 15\n",
            " 15 15 15 15 15 15 16 16 16 16 16 16 16 16 16 16 17 17 17 17 17 17 17 17\n",
            " 17 17 18 18 18 18 18 18 18 18 18 18 19 19 19 19 19 19 19 19 19 19 20 20\n",
            " 20 20 20 20 20 20 20 20 21 21 21 21 21 21 21 21 21 21 22 22 22 22 22 22\n",
            " 22 22 22 22 23 23 23 23 23 23 23 23 23 23 24 24 24 24 24 24 24 24 24 24\n",
            " 25 25 25 25 25 25 25 25 25 25 26 26 26 26 26 26 26 26 26 26 27 27 27 27\n",
            " 27 27 27 27 27 27 28 28 28 28 28 28 28 28 28 28 29 29 29 29 29 29 29 29\n",
            " 29 29 30 30 30 30 30 30 30 30 30 30 31 31 31 31 31 31 31 31 31 31 32 32\n",
            " 32 32 32 32 32 32 32 32 33 33 33 33 33 33 33 33 33 33 34 34 34 34 34 34\n",
            " 34 34 34 34 35 35 35 35 35 35 35 35 35 35 36 36 36 36 36 36 36 36 36 36\n",
            " 37 37 37 37 37 37 37 37 37 37 38 38 38 38 38 38 38 38 38 38 39 39 39 39\n",
            " 39 39 39 39 39 39 40 40 40 40 40 40 40 40 40 40]\n"
          ],
          "name": "stdout"
        }
      ]
    },
    {
      "cell_type": "code",
      "metadata": {
        "id": "kJOtjCkWvZKK"
      },
      "source": [
        "trainData = []\n",
        "testData = []\n",
        "trainLabel = []\n",
        "testLabel = []\n",
        "count = 0\n",
        "for image in images:\n",
        "  if count % 2 == 1:\n",
        "    trainData.append(image)\n",
        "  else:\n",
        "    testData.append(image)\n",
        "  count += 1 \n",
        "trainData = np.array(trainData) \n",
        "testData = np.array(testData)"
      ],
      "execution_count": 21,
      "outputs": []
    },
    {
      "cell_type": "code",
      "metadata": {
        "id": "eGV6iQiAkTC4"
      },
      "source": [
        "for image in images:\n",
        "  print(image)\n",
        "  print(\"-------------------------------------------------------------------------------------------------\")\n",
        "for trainImg in trainData:\n",
        "  print(trainImg)\n",
        "for testImg in testData:\n",
        "  print(testImg)   "
      ],
      "execution_count": 22,
      "outputs": []
    },
    {
      "cell_type": "markdown",
      "metadata": {
        "id": "2J4ZeyZ3VV_F"
      },
      "source": [
        "# LDA [Mohammed Aiman]"
      ]
    },
    {
      "cell_type": "code",
      "metadata": {
        "id": "qQMSv-CxVZKv"
      },
      "source": [
        ""
      ],
      "execution_count": 22,
      "outputs": []
    },
    {
      "cell_type": "code",
      "metadata": {
        "id": "VSNhgAU9VZaS"
      },
      "source": [
        ""
      ],
      "execution_count": 22,
      "outputs": []
    },
    {
      "cell_type": "markdown",
      "metadata": {
        "id": "fm6FR7CPVINN"
      },
      "source": [
        "# PCA [Ahmed Ashraf]"
      ]
    },
    {
      "cell_type": "code",
      "metadata": {
        "id": "s0xVmdm3VRnJ"
      },
      "source": [
        ""
      ],
      "execution_count": 22,
      "outputs": []
    },
    {
      "cell_type": "code",
      "metadata": {
        "id": "DlvGqD3cVSp_"
      },
      "source": [
        ""
      ],
      "execution_count": 22,
      "outputs": []
    }
  ]
}